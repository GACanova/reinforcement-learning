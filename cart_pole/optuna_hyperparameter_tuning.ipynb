{
 "cells": [
  {
   "cell_type": "markdown",
   "id": "b1866eef",
   "metadata": {},
   "source": [
    "# Cart-pole Hyperparameter Optimization"
   ]
  },
  {
   "cell_type": "markdown",
   "id": "457d0ef5",
   "metadata": {},
   "source": [
    "<br>\n",
    "<br>\n",
    "\n",
    "<span style=\"font-family: monospace; font-size:18px;\">\n",
    "In this jupyter notebook, we explore and optimize various reinforcement learning algorithms for the classic cart-pole balancing task. We leverage the power of the Optuna library to fine-tune the hyperparameters of different models, including Semi-gradient SARSA, Deep Q-Network (DQN), and both discrete and continuous variants of the Actor-Critic method.\n",
    "</span>\n"
   ]
  },
  {
   "cell_type": "markdown",
   "id": "f3eb428d",
   "metadata": {},
   "source": [
    "## Import libraries"
   ]
  },
  {
   "cell_type": "code",
   "execution_count": null,
   "id": "c9850a7c",
   "metadata": {},
   "outputs": [],
   "source": [
    "import torch\n",
    "import torch.optim as optim\n",
    "import optuna\n",
    "from optuna_utils import ObjectiveFunction\n",
    "from config import ACTIONS, THETA_DOT_BOUNDS, X_DOT_BOUNDS\n",
    "from cart_pole_class import CartPole\n",
    "from tile_coder import TileCoder\n",
    "from replay_memory_class import ReplayMemory\n",
    "from semi_gradient_sarsa_agent import SemiGradientSarsaAgent\n",
    "from ann_model_classes import FCN, SoftmaxFCN, GaussianFCN\n",
    "from model_handler_classes import ModelHandler, ActorModelHandler\n",
    "from dqn_agent_class import DQNAgent\n",
    "from actor_critic_agent_class import ActorCriticAgent\n",
    "from model_utils import train, EarlyStopCallback\n",
    "from epsilon_decay_class import EpsilonDecay\n",
    "import warnings\n",
    "warnings.filterwarnings(\"ignore\")"
   ]
  },
  {
   "cell_type": "markdown",
   "id": "eb6c4b54",
   "metadata": {},
   "source": [
    "## Semi-gradient SARSA "
   ]
  },
  {
   "cell_type": "markdown",
   "id": "e1e70795",
   "metadata": {},
   "source": [
    "#### Create Model"
   ]
  },
  {
   "cell_type": "code",
   "execution_count": null,
   "id": "c18cc121",
   "metadata": {},
   "outputs": [],
   "source": [
    "def create_sarsa_model(trial):\n",
    "    \n",
    "    env = CartPole()\n",
    "    \n",
    "    alpha = trial.suggest_float('alpha', 0.01, 0.5)\n",
    "    num_tilings = trial.suggest_int('num_tilings', 1, 20)\n",
    "    tiles_per_dimension = trial.suggest_categorical('tiles_per_dimension', [(i, i, i, i) for i in range(4, 33, 2)])\n",
    "    epsilon_end = trial.suggest_float('epsilon_end', 0.001, 0.1, log=True)\n",
    "    last_episode = trial.suggest_categorical('last_episode', [5*n for n in range(2, 20)])\n",
    "    \n",
    "    tile_coder = TileCoder(num_tilings=num_tilings, tiles_per_dimension=tiles_per_dimension)\n",
    "    epsilon = EpsilonDecay(epsilon_start=1.0, epsilon_end=epsilon_end, last_episode=last_episode, decay_method='linear')\n",
    "    \n",
    "    sarsa_agent = SemiGradientSarsaAgent(env, ACTIONS, tile_coder, epsilon, alpha=alpha, gamma=0.99)\n",
    "    \n",
    "    return sarsa_agent\n"
   ]
  },
  {
   "cell_type": "markdown",
   "id": "0968e4b4",
   "metadata": {},
   "source": [
    "#### Objective Function"
   ]
  },
  {
   "cell_type": "code",
   "execution_count": null,
   "id": "2994a1b0",
   "metadata": {},
   "outputs": [],
   "source": [
    "early_stop_callback = EarlyStopCallback(threshold=200)\n",
    "\n",
    "objective = ObjectiveFunction(create_sarsa_model,\n",
    "                              callbacks=early_stop_callback,\n",
    "                              iterations=10,\n",
    "                              train_episodes=1000,\n",
    "                              evaluation_episodes=10,\n",
    "                              evaluation_interval=1\n",
    "                             )"
   ]
  },
  {
   "cell_type": "markdown",
   "id": "48342d88",
   "metadata": {},
   "source": [
    "#### Optimize"
   ]
  },
  {
   "cell_type": "code",
   "execution_count": null,
   "id": "c5a6a689",
   "metadata": {},
   "outputs": [],
   "source": [
    "study = optuna.create_study(study_name=\"sarsa\",\n",
    "                            direction='minimize',\n",
    "                            storage=\"sqlite:///optuna_database.db\",\n",
    "                            load_if_exists=True\n",
    ")\n",
    "\n",
    "study.optimize(objective, n_trials=100)\n",
    "\n",
    "print('Best hyperparameters: ', study.best_params, \" Best value: \", study.best_value)"
   ]
  },
  {
   "cell_type": "markdown",
   "id": "9b8551da",
   "metadata": {},
   "source": [
    "## Optimize DQN Model Parameters"
   ]
  },
  {
   "cell_type": "markdown",
   "id": "66b2f12d",
   "metadata": {},
   "source": [
    "#### Create Model"
   ]
  },
  {
   "cell_type": "code",
   "execution_count": null,
   "id": "a6eed31e",
   "metadata": {},
   "outputs": [],
   "source": [
    "def create_dqn_model(trial):\n",
    "    \n",
    "    env = CartPole()\n",
    "    \n",
    "    batch_size = trial.suggest_categorical('batch_size', [16, 32, 64, 128, 256, 512, 1024])\n",
    "    learning_rate = trial.suggest_loguniform('learning_rate', 1e-5, 1e-1)\n",
    "    layers = trial.suggest_categorical('layers', [2, 3])    \n",
    "    n_hidden_units = trial.suggest_categorical('n_hidden_units', [2**n for n in range(2, 11)])\n",
    "    leaky_relu_alpha = trial.suggest_loguniform('leaky_relu_alpha', 1e-3, 0.5)\n",
    "    epsilon_end = trial.suggest_float('epsilon_end', 0.001, 0.1, log=True)\n",
    "    last_episode = trial.suggest_categorical('last_episode', [5*n for n in range(2, 50)])\n",
    "    \n",
    "    model = FCN(output_dim=2, hidden_units=layers*[n_hidden_units], activation=torch.nn.LeakyReLU(negative_slope=leaky_relu_alpha))\n",
    "    optimizer = optim.Adam(model.parameters(), lr=learning_rate)\n",
    "    model_handler = ModelHandler(model, optimizer)\n",
    "    replay_memory = ReplayMemory(memory_size=100000)\n",
    "    epsilon = EpsilonDecay(epsilon_start=1.0, epsilon_end=epsilon_end, last_episode=last_episode, decay_method='linear')\n",
    "    \n",
    "    dqn_agent = DQNAgent(env, ACTIONS, model_handler, replay_memory, epsilon, batch_size=batch_size, gamma=0.99)\n",
    "    \n",
    "    return dqn_agent\n"
   ]
  },
  {
   "cell_type": "markdown",
   "id": "3ae758d9",
   "metadata": {},
   "source": [
    "#### Objective Function"
   ]
  },
  {
   "cell_type": "code",
   "execution_count": null,
   "id": "ec344453",
   "metadata": {},
   "outputs": [],
   "source": [
    "early_stop_callback = EarlyStopCallback(threshold=200)\n",
    "\n",
    "objective = ObjectiveFunction(create_dqn_model,\n",
    "                              callbacks=early_stop_callback,\n",
    "                              iterations=10,\n",
    "                              train_episodes=1000,\n",
    "                              evaluation_episodes=10,\n",
    "                              evaluation_interval=1\n",
    "                             )"
   ]
  },
  {
   "cell_type": "markdown",
   "id": "574361d1",
   "metadata": {},
   "source": [
    "#### Optimize"
   ]
  },
  {
   "cell_type": "code",
   "execution_count": null,
   "id": "1ee6892c",
   "metadata": {},
   "outputs": [],
   "source": [
    "study = optuna.create_study(study_name=\"dqn\",\n",
    "                            direction='minimize',\n",
    "                            storage=\"sqlite:///optuna_database.db\",\n",
    "                            load_if_exists=True\n",
    ")\n",
    "\n",
    "study.optimize(objective, n_trials=100)\n",
    "\n",
    "print('Best hyperparameters: ', study.best_params, \" Best value: \", study.best_value)"
   ]
  },
  {
   "cell_type": "markdown",
   "id": "cb617558",
   "metadata": {},
   "source": [
    "## Optimize Discrete Actor Critic Model Parameters"
   ]
  },
  {
   "cell_type": "markdown",
   "id": "810ce73d",
   "metadata": {},
   "source": [
    "#### Create Model"
   ]
  },
  {
   "cell_type": "code",
   "execution_count": null,
   "id": "e707503b",
   "metadata": {},
   "outputs": [],
   "source": [
    "def create_discrete_actor_critic_model(trial):\n",
    "    \n",
    "    env = CartPole()\n",
    "    \n",
    "    batch_size = trial.suggest_categorical('batch_size', [32, 64, 128, 256, 512, 1024])\n",
    "\n",
    "    critic_learning_rate = trial.suggest_loguniform('critic_learning_rate', 1e-5, 1e-1)\n",
    "    actor_learning_rate = trial.suggest_loguniform('actor_learning_rate', 1e-7, 1e-1)\n",
    "    \n",
    "    critic_layers = trial.suggest_categorical('critic_layers', [2, 3])\n",
    "    actor_layers = trial.suggest_categorical('actor_layers', [2, 3])\n",
    "    \n",
    "    n_hidden_units_critic = trial.suggest_categorical('n_hidden_units_critic', [2**n for n in range(4, 11)])\n",
    "    n_hidden_units_actor = trial.suggest_categorical('n_hidden_units_actor', [2**n for n in range(5, 11)])\n",
    "    \n",
    "    critic_leaky_relu_alpha = trial.suggest_loguniform('critic_leaky_relu_alpha', 1e-3, 0.5)\n",
    "    actor_leaky_relu_alpha = trial.suggest_loguniform('actor_leaky_relu_alpha', 1e-3, 0.5)\n",
    "    \n",
    "    replay_memory = ReplayMemory(memory_size=100000)\n",
    "    \n",
    "    critic_ann_model = FCN(output_dim=1, hidden_units=critic_layers*[n_hidden_units_critic], activation=torch.nn.LeakyReLU(negative_slope=critic_leaky_relu_alpha))\n",
    "    optimizer = optim.Adam(critic_ann_model.parameters(), lr=critic_learning_rate)\n",
    "    critic_model_handler = ModelHandler(critic_ann_model, optimizer)\n",
    "    \n",
    "    actor_ann_model = SoftmaxFCN(output_dim=2, hidden_units=actor_layers*[n_hidden_units_actor], activation=torch.nn.LeakyReLU(negative_slope=actor_leaky_relu_alpha))\n",
    "    optimizer = optim.Adam(actor_ann_model.parameters(), lr=actor_learning_rate)\n",
    "    actor_model_handler = ActorModelHandler(actor_ann_model, optimizer)\n",
    "    \n",
    "    actor_critic_agent = ActorCriticAgent(env, critic_model_handler, actor_model_handler, replay_memory,\n",
    "                                          actions=ACTIONS, batch_size=batch_size, gamma=0.99\n",
    "    )\n",
    "    \n",
    "    return actor_critic_agent"
   ]
  },
  {
   "cell_type": "markdown",
   "id": "45b46375",
   "metadata": {},
   "source": [
    "#### Objective Function"
   ]
  },
  {
   "cell_type": "code",
   "execution_count": null,
   "id": "27ec3111",
   "metadata": {},
   "outputs": [],
   "source": [
    "early_stop_callback = EarlyStopCallback(threshold=200)\n",
    "\n",
    "objective = ObjectiveFunction(create_discrete_actor_critic_model,\n",
    "                              callbacks=early_stop_callback,\n",
    "                              iterations=10,\n",
    "                              train_episodes=1000,\n",
    "                              evaluation_episodes=10,\n",
    "                              evaluation_interval=1\n",
    "                             )"
   ]
  },
  {
   "cell_type": "markdown",
   "id": "a3559f82",
   "metadata": {},
   "source": [
    "#### Optimize"
   ]
  },
  {
   "cell_type": "code",
   "execution_count": null,
   "id": "04e82309",
   "metadata": {},
   "outputs": [],
   "source": [
    "study = optuna.create_study(study_name=\"actor_critic\",\n",
    "                            direction='minimize',\n",
    "                            storage=\"sqlite:///optuna_database.db\",\n",
    "                            load_if_exists=True\n",
    ")\n",
    "\n",
    "study.optimize(objective, n_trials=100)\n",
    "\n",
    "print('Best hyperparameters: ', study.best_params, \" Best value: \", study.best_value)"
   ]
  },
  {
   "cell_type": "markdown",
   "id": "8a51e0e9",
   "metadata": {},
   "source": [
    "## Optimize Continuous Actor Critic Model Parameters"
   ]
  },
  {
   "cell_type": "markdown",
   "id": "77e74594",
   "metadata": {},
   "source": [
    "#### Create Model"
   ]
  },
  {
   "cell_type": "code",
   "execution_count": null,
   "id": "ce94e2a2",
   "metadata": {},
   "outputs": [],
   "source": [
    "def create_continuous_actor_critic_model(trial):\n",
    "    \n",
    "    env = CartPole()\n",
    "    \n",
    "    batch_size = trial.suggest_categorical('batch_size', [32, 64, 128, 256, 512, 1024])\n",
    "\n",
    "    critic_learning_rate = trial.suggest_loguniform('critic_learning_rate', 1e-5, 1e-1)\n",
    "    actor_learning_rate = trial.suggest_loguniform('actor_learning_rate', 1e-7, 1e-1)\n",
    "    \n",
    "    critic_layers = trial.suggest_categorical('critic_layers', [2, 3])\n",
    "    actor_layers = trial.suggest_categorical('actor_layers', [2, 3])\n",
    "    \n",
    "    n_hidden_units_critic = trial.suggest_categorical('n_hidden_units_critic', [2**n for n in range(4, 11)])\n",
    "    n_hidden_units_actor = trial.suggest_categorical('n_hidden_units_actor', [2**n for n in range(4, 11)])\n",
    "    \n",
    "    critic_leaky_relu_alpha = trial.suggest_loguniform('critic_leaky_relu_alpha', 1e-3, 0.5)\n",
    "    actor_leaky_relu_alpha = trial.suggest_loguniform('actor_leaky_relu_alpha', 1e-3, 0.5)\n",
    "    \n",
    "    replay_memory = ReplayMemory(memory_size=100000)\n",
    "    \n",
    "    critic_ann_model = FCN(output_dim=1,\n",
    "                           hidden_units=critic_layers*[n_hidden_units_critic],\n",
    "                           activation=torch.nn.LeakyReLU(negative_slope=critic_leaky_relu_alpha))\n",
    "    \n",
    "    optimizer = optim.Adam(critic_ann_model.parameters(), lr=critic_learning_rate)\n",
    "    \n",
    "    critic_model_handler = ModelHandler(critic_ann_model, optimizer)\n",
    "    \n",
    "    actor_ann_model = GaussianFCN(output_dim=1,\n",
    "                                  hidden_units=actor_layers*[n_hidden_units_actor],\n",
    "                                  activation=torch.nn.LeakyReLU(negative_slope=actor_leaky_relu_alpha))\n",
    "    \n",
    "    optimizer = optim.Adam(actor_ann_model.parameters(), lr=actor_learning_rate)\n",
    "    \n",
    "    actor_model_handler = ActorModelHandler(actor_ann_model, optimizer)\n",
    "    \n",
    "    actor_critic_agent = ActorCriticAgent(env, critic_model_handler, actor_model_handler, replay_memory, batch_size=batch_size, gamma=0.99)\n",
    "    \n",
    "    return actor_critic_agent"
   ]
  },
  {
   "cell_type": "markdown",
   "id": "ee5d653d",
   "metadata": {},
   "source": [
    "#### Objective Function"
   ]
  },
  {
   "cell_type": "code",
   "execution_count": null,
   "id": "02e1c27f",
   "metadata": {},
   "outputs": [],
   "source": [
    "early_stop_callback = EarlyStopCallback(threshold=200)\n",
    "\n",
    "objective = ObjectiveFunction(create_continuous_actor_critic_model,\n",
    "                              callbacks=early_stop_callback,\n",
    "                              iterations=10,\n",
    "                              train_episodes=1000,\n",
    "                              evaluation_episodes=10,\n",
    "                              evaluation_interval=1\n",
    "                             )"
   ]
  },
  {
   "cell_type": "markdown",
   "id": "b040ae27",
   "metadata": {},
   "source": [
    "#### Optimize"
   ]
  },
  {
   "cell_type": "code",
   "execution_count": null,
   "id": "c13ab4cd",
   "metadata": {},
   "outputs": [],
   "source": [
    "study = optuna.create_study(study_name=\"actor_critic_continuous\",\n",
    "                            direction='minimize',\n",
    "                            storage=\"sqlite:///optuna_database.db\",\n",
    "                            load_if_exists=True\n",
    ")\n",
    "\n",
    "study.optimize(objective, n_trials=100)\n",
    "\n",
    "print('Best hyperparameters: ', study.best_params, \" Best value: \", study.best_value)"
   ]
  }
 ],
 "metadata": {
  "kernelspec": {
   "display_name": "Python (pytorch)",
   "language": "python",
   "name": "pytorch"
  },
  "language_info": {
   "codemirror_mode": {
    "name": "ipython",
    "version": 3
   },
   "file_extension": ".py",
   "mimetype": "text/x-python",
   "name": "python",
   "nbconvert_exporter": "python",
   "pygments_lexer": "ipython3",
   "version": "3.11.5"
  }
 },
 "nbformat": 4,
 "nbformat_minor": 5
}
